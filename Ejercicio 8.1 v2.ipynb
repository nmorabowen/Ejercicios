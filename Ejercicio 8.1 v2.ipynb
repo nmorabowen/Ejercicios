{
 "cells": [
  {
   "cell_type": "code",
   "execution_count": 1,
   "metadata": {},
   "outputs": [],
   "source": [
    "import numpy as np\n",
    "import matplotlib.pyplot as plt"
   ]
  },
  {
   "cell_type": "code",
   "execution_count": 9,
   "metadata": {},
   "outputs": [
    {
     "name": "stdout",
     "output_type": "stream",
     "text": [
      "[0.99995    0.99280864 0.9736664  0.94275467 0.9004471  0.84725511\n",
      " 0.78382167 0.71091354 0.62941203 0.54030231]\n"
     ]
    }
   ],
   "source": [
    "theta=np.linspace(0.01,1,10)\n",
    "alpha=np.array([0,0.05,0.1,0.2])\n",
    "\n",
    "Pcr = lambda theta, alpha: np.sin(theta)/(np.tan(theta)+alpha)\n",
    "\n",
    "Resultados=Pcr(theta,alpha[0])\n",
    "print(Resultados)\n"
   ]
  },
  {
   "cell_type": "code",
   "execution_count": 12,
   "metadata": {},
   "outputs": [
    {
     "name": "stdout",
     "output_type": "stream",
     "text": [
      "[[0. 0. 0. 0. 0. 0. 0. 0. 0. 0.]\n",
      " [0. 0. 0. 0. 0. 0. 0. 0. 0. 0.]\n",
      " [0. 0. 0. 0. 0. 0. 0. 0. 0. 0.]\n",
      " [0. 0. 0. 0. 0. 0. 0. 0. 0. 0.]]\n",
      "[[0.99995    0.99280864 0.9736664  0.94275467 0.9004471  0.84725511\n",
      "  0.78382167 0.71091354 0.62941203 0.54030231]\n",
      " [0.16666296 0.70179782 0.80233274 0.82600107 0.81598612 0.78467621\n",
      "  0.73729048 0.67671072 0.60491365 0.52349567]\n",
      " [0.0909073  0.54271723 0.68227458 0.73497903 0.74601107 0.73070574\n",
      "  0.69597431 0.6456479  0.58225091 0.50770307]\n",
      " [0.04761818 0.37342459 0.52512037 0.6022483  0.63679424 0.64234415\n",
      "  0.62583358 0.59135808 0.5416646  0.47881375]]\n"
     ]
    }
   ],
   "source": [
    "Resultados=np.zeros([len(alpha),len(theta)])\n",
    "print(Resultados)\n",
    "\n",
    "for i, coeficiente in enumerate(alpha):\n",
    "    Resultados[i,:]=Pcr(theta,alpha[i])\n",
    "    \n",
    "print(Resultados)"
   ]
  },
  {
   "cell_type": "code",
   "execution_count": null,
   "metadata": {},
   "outputs": [],
   "source": []
  }
 ],
 "metadata": {
  "kernelspec": {
   "display_name": "base",
   "language": "python",
   "name": "python3"
  },
  "language_info": {
   "codemirror_mode": {
    "name": "ipython",
    "version": 3
   },
   "file_extension": ".py",
   "mimetype": "text/x-python",
   "name": "python",
   "nbconvert_exporter": "python",
   "pygments_lexer": "ipython3",
   "version": "3.11.4"
  },
  "orig_nbformat": 4
 },
 "nbformat": 4,
 "nbformat_minor": 2
}
