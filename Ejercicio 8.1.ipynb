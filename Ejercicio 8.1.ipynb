{
 "cells": [
  {
   "cell_type": "code",
   "execution_count": 20,
   "metadata": {},
   "outputs": [],
   "source": [
    "import sympy as sp\n",
    "from IPython.display import display, Latex\n",
    "import matplotlib.pyplot as plt"
   ]
  },
  {
   "cell_type": "code",
   "execution_count": 21,
   "metadata": {},
   "outputs": [
    {
     "data": {
      "text/latex": [
       "$\\displaystyle \\frac{\\sin{\\left(\\theta \\right)}}{\\alpha + \\tan{\\left(\\theta \\right)}}$"
      ],
      "text/plain": [
       "sin(theta)/(alpha + tan(theta))"
      ]
     },
     "metadata": {},
     "output_type": "display_data"
    },
    {
     "data": {
      "text/latex": [
       "$\\displaystyle \\frac{\\cos{\\left(\\theta \\right)}}{\\alpha + \\tan{\\left(\\theta \\right)}} + \\frac{\\left(- \\tan^{2}{\\left(\\theta \\right)} - 1\\right) \\sin{\\left(\\theta \\right)}}{\\left(\\alpha + \\tan{\\left(\\theta \\right)}\\right)^{2}}$"
      ],
      "text/plain": [
       "cos(theta)/(alpha + tan(theta)) + (-tan(theta)**2 - 1)*sin(theta)/(alpha + tan(theta))**2"
      ]
     },
     "metadata": {},
     "output_type": "display_data"
    }
   ],
   "source": [
    "P, Delta, alpha, theta, L = sp.symbols('O, Delta, alpha, theta, L')\n",
    "\n",
    "# Definimos la expreison que estamos buscando obtener\n",
    "EQ_1=sp.sin(theta)/(sp.tan(theta)+alpha)\n",
    "# Derivamos la expresion\n",
    "EQ_2=sp.diff(EQ_1,theta)\n",
    "\n",
    "display(EQ_1)\n",
    "display(EQ_2)"
   ]
  },
  {
   "cell_type": "code",
   "execution_count": 28,
   "metadata": {},
   "outputs": [
    {
     "data": {
      "text/latex": [
       "$\\displaystyle \\tan^{3}{\\left(\\theta \\right)}$"
      ],
      "text/plain": [
       "tan(theta)**3"
      ]
     },
     "metadata": {},
     "output_type": "display_data"
    },
    {
     "data": {
      "text/plain": [
       "[]"
      ]
     },
     "metadata": {},
     "output_type": "display_data"
    }
   ],
   "source": [
    "EQ_3=sp.solve(EQ_2,alpha)\n",
    "display(EQ_3[0])\n",
    "\n",
    "EQ_4=sp.solve(EQ_1.subs(alpha,0.0))\n",
    "display(EQ_4)\n",
    "\n"
   ]
  }
 ],
 "metadata": {
  "kernelspec": {
   "display_name": "base",
   "language": "python",
   "name": "python3"
  },
  "language_info": {
   "codemirror_mode": {
    "name": "ipython",
    "version": 3
   },
   "file_extension": ".py",
   "mimetype": "text/x-python",
   "name": "python",
   "nbconvert_exporter": "python",
   "pygments_lexer": "ipython3",
   "version": "3.11.4"
  },
  "orig_nbformat": 4
 },
 "nbformat": 4,
 "nbformat_minor": 2
}
