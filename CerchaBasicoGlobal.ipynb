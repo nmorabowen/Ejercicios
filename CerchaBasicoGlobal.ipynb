{
 "cells": [
  {
   "cell_type": "code",
   "execution_count": 7,
   "metadata": {},
   "outputs": [],
   "source": [
    "import sympy as sp\n",
    "from IPython.display import display, Latex\n"
   ]
  },
  {
   "cell_type": "code",
   "execution_count": 26,
   "metadata": {},
   "outputs": [
    {
     "data": {
      "text/latex": [
       "$\\displaystyle \\left[\\begin{matrix}\\frac{A E}{L} & - \\frac{A E}{L}\\\\- \\frac{A E}{L} & \\frac{A E}{L}\\end{matrix}\\right]$"
      ],
      "text/plain": [
       "Matrix([\n",
       "[ A*E/L, -A*E/L],\n",
       "[-A*E/L,  A*E/L]])"
      ]
     },
     "metadata": {},
     "output_type": "display_data"
    },
    {
     "data": {
      "text/latex": [
       "$\\displaystyle \\left[\\begin{matrix}\\frac{A E c^{2}}{L} & \\frac{A E c s}{L} & - \\frac{A E c^{2}}{L} & - \\frac{A E c s}{L}\\\\\\frac{A E c s}{L} & \\frac{A E s^{2}}{L} & - \\frac{A E c s}{L} & - \\frac{A E s^{2}}{L}\\\\- \\frac{A E c^{2}}{L} & - \\frac{A E c s}{L} & \\frac{A E c^{2}}{L} & \\frac{A E c s}{L}\\\\- \\frac{A E c s}{L} & - \\frac{A E s^{2}}{L} & \\frac{A E c s}{L} & \\frac{A E s^{2}}{L}\\end{matrix}\\right]$"
      ],
      "text/plain": [
       "Matrix([\n",
       "[ A*E*c**2/L,   A*E*c*s/L, -A*E*c**2/L,  -A*E*c*s/L],\n",
       "[  A*E*c*s/L,  A*E*s**2/L,  -A*E*c*s/L, -A*E*s**2/L],\n",
       "[-A*E*c**2/L,  -A*E*c*s/L,  A*E*c**2/L,   A*E*c*s/L],\n",
       "[ -A*E*c*s/L, -A*E*s**2/L,   A*E*c*s/L,  A*E*s**2/L]])"
      ]
     },
     "metadata": {},
     "output_type": "display_data"
    }
   ],
   "source": [
    "A,E,L,c,s = sp.symbols('A E L c s')\n",
    "\n",
    "Kb=sp.Matrix([E*A/L])\n",
    "Tbl=sp.Matrix([[-1,1]])\n",
    "Kl=Tbl.transpose()*Kb*Tbl\n",
    "\n",
    "Tlg=sp.Matrix([[c,s,0,0],\n",
    "               [0,0,c,s]])\n",
    "Kg=Tlg.transpose()*Kl*Tlg\n",
    "\n",
    "display(Kl)\n",
    "display(Kg)"
   ]
  }
 ],
 "metadata": {
  "kernelspec": {
   "display_name": "base",
   "language": "python",
   "name": "python3"
  },
  "language_info": {
   "codemirror_mode": {
    "name": "ipython",
    "version": 3
   },
   "file_extension": ".py",
   "mimetype": "text/x-python",
   "name": "python",
   "nbconvert_exporter": "python",
   "pygments_lexer": "ipython3",
   "version": "3.11.4"
  },
  "orig_nbformat": 4
 },
 "nbformat": 4,
 "nbformat_minor": 2
}
