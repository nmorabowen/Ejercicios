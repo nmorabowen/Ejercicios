{
 "cells": [
  {
   "cell_type": "code",
   "execution_count": 21,
   "metadata": {},
   "outputs": [],
   "source": [
    "import matplotlib.pyplot as plt\n",
    "from PIL import Image\n",
    "from pdf2image import convert_from_path\n",
    "\n",
    "\n",
    "\n",
    "\n",
    "def latex_to_png(latex_str,name):\n",
    "    fig = plt.figure()\n",
    "    \n",
    "    plt.axis(\"off\")\n",
    "    plt.text(0.5,0.5,f\"${latex_str}$\",size=50,ha=\"center\",va=\"center\")\n",
    "    \n",
    "    pdf_path=\"result.pdf\"\n",
    "    png_path=\"result.png\"\n",
    "    \n",
    "    plt.savefig(pdf_path, format=\"pdf\", bbox_inches=\"tight\", pad_inches=0.4)\n",
    "    plt.close(fig)\n",
    "    \n",
    "    image=convert_from_path(pdf_path,transparent=\"True\")\n",
    "    image[0].save(png_path,\"PNG\")\n",
    "    \n",
    "    return png_path\n",
    "\n",
    "eq='x^2'\n",
    "png_path=latex_to_png(eq,\"EQ1\")\n",
    "image=Image.open(png_path)\n",
    "\n",
    "\n",
    "\n",
    "\n",
    "\n"
   ]
  }
 ],
 "metadata": {
  "kernelspec": {
   "display_name": "base",
   "language": "python",
   "name": "python3"
  },
  "language_info": {
   "codemirror_mode": {
    "name": "ipython",
    "version": 3
   },
   "file_extension": ".py",
   "mimetype": "text/x-python",
   "name": "python",
   "nbconvert_exporter": "python",
   "pygments_lexer": "ipython3",
   "version": "3.9.13"
  }
 },
 "nbformat": 4,
 "nbformat_minor": 2
}
