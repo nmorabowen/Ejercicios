{
 "cells": [
  {
   "cell_type": "markdown",
   "metadata": {},
   "source": [
    "# Solucion de Viga por el Metodo de la Flexibilidad\n",
    "1. Definimos las cargas en la estructura isostatica equivalente:\n",
    "Sistema Original = Sistema Empotrado + Sistema Equivalente\n",
    "2. Definimos la matriz de flexibilidad no ensamblada\n",
    "3. Definimos la matriz de transformacion y calculamos la matriz de flexibilidad ensamblada\n",
    "4. Particionamos la matriz de flexibilidad y resolvemos el sistema de ecuaciones\n",
    "5. Combinamos el sistema real y el equivalente para obtener la solucion del sistema original"
   ]
  },
  {
   "cell_type": "code",
   "execution_count": 42,
   "metadata": {},
   "outputs": [],
   "source": [
    "# Importamos dependencias\n",
    "import numpy as np\n",
    "import math\n",
    "import sympy as sp\n",
    "from IPython.display import display, Latex"
   ]
  },
  {
   "cell_type": "code",
   "execution_count": 43,
   "metadata": {},
   "outputs": [],
   "source": [
    "# Definimos funciones de apoyo\n",
    "def matrizFlexibilidad(E,I,L):\n",
    "    fm=sp.Matrix([[L**3/(3*E*I),L**2/(2*E*I)],\n",
    "                 [L**2/(2*E*I),L/(E*I)]])\n",
    "    return fm\n"
   ]
  },
  {
   "cell_type": "markdown",
   "metadata": {},
   "source": [
    "## Matriz de Flexibilidad No Ensamblada"
   ]
  },
  {
   "cell_type": "code",
   "execution_count": 44,
   "metadata": {},
   "outputs": [
    {
     "name": "stdout",
     "output_type": "stream",
     "text": [
      "La matriz fm1 es:\n"
     ]
    },
    {
     "data": {
      "text/latex": [
       "$\\displaystyle \\left[\\begin{matrix}\\frac{L^{3}}{3 E I} & \\frac{L^{2}}{2 E I}\\\\\\frac{L^{2}}{2 E I} & \\frac{L}{E I}\\end{matrix}\\right]$"
      ],
      "text/plain": [
       "Matrix([\n",
       "[L**3/(3*E*I), L**2/(2*E*I)],\n",
       "[L**2/(2*E*I),      L/(E*I)]])"
      ]
     },
     "metadata": {},
     "output_type": "display_data"
    },
    {
     "name": "stdout",
     "output_type": "stream",
     "text": [
      "La matriz fm2 es:\n"
     ]
    },
    {
     "data": {
      "text/latex": [
       "$\\displaystyle \\left[\\begin{matrix}\\frac{L^{3}}{3 E I} & \\frac{L^{2}}{2 E I}\\\\\\frac{L^{2}}{2 E I} & \\frac{L}{E I}\\end{matrix}\\right]$"
      ],
      "text/plain": [
       "Matrix([\n",
       "[L**3/(3*E*I), L**2/(2*E*I)],\n",
       "[L**2/(2*E*I),      L/(E*I)]])"
      ]
     },
     "metadata": {},
     "output_type": "display_data"
    },
    {
     "name": "stdout",
     "output_type": "stream",
     "text": [
      "La matriz no ensamblada es:\n"
     ]
    },
    {
     "data": {
      "text/latex": [
       "$\\displaystyle \\left[\\begin{matrix}\\frac{L^{3}}{3 E I} & \\frac{L^{2}}{2 E I} & 0 & 0\\\\\\frac{L^{2}}{2 E I} & \\frac{L}{E I} & 0 & 0\\\\0 & 0 & \\frac{L^{3}}{3 E I} & \\frac{L^{2}}{2 E I}\\\\0 & 0 & \\frac{L^{2}}{2 E I} & \\frac{L}{E I}\\end{matrix}\\right]$"
      ],
      "text/plain": [
       "Matrix([\n",
       "[L**3/(3*E*I), L**2/(2*E*I),            0,            0],\n",
       "[L**2/(2*E*I),      L/(E*I),            0,            0],\n",
       "[           0,            0, L**3/(3*E*I), L**2/(2*E*I)],\n",
       "[           0,            0, L**2/(2*E*I),      L/(E*I)]])"
      ]
     },
     "metadata": {},
     "output_type": "display_data"
    }
   ],
   "source": [
    "# Definimos variables simbolicas\n",
    "E,I,L,P=sp.symbols('E I L P')\n",
    "fm1=matrizFlexibilidad(E,I,L)\n",
    "fm2=matrizFlexibilidad(E,I,L)\n",
    "\n",
    "fm=sp.diag(fm1,fm2)\n",
    "\n",
    "print('La matriz fm1 es:')\n",
    "display(fm1)\n",
    "print('La matriz fm2 es:')\n",
    "display(fm2)\n",
    "print('La matriz no ensamblada es:')\n",
    "display(fm)\n"
   ]
  },
  {
   "cell_type": "markdown",
   "metadata": {},
   "source": [
    "## Matriz de Transformacion y Matriz de Flexibilidad Ensamblada"
   ]
  },
  {
   "cell_type": "code",
   "execution_count": 45,
   "metadata": {},
   "outputs": [
    {
     "name": "stdout",
     "output_type": "stream",
     "text": [
      "La matriz de transformacion es:\n"
     ]
    },
    {
     "data": {
      "text/latex": [
       "$\\displaystyle \\left[\\begin{matrix}- \\frac{1}{L} & 0 & - \\frac{1}{L} & - \\frac{1}{L}\\\\1 & 0 & 0 & 1\\\\0 & - \\frac{1}{L} & 0 & \\frac{1}{L}\\\\0 & 1 & 0 & 0\\end{matrix}\\right]$"
      ],
      "text/plain": [
       "Matrix([\n",
       "[-1/L,    0, -1/L, -1/L],\n",
       "[   1,    0,    0,    1],\n",
       "[   0, -1/L,    0,  1/L],\n",
       "[   0,    1,    0,    0]])"
      ]
     },
     "metadata": {},
     "output_type": "display_data"
    },
    {
     "name": "stdout",
     "output_type": "stream",
     "text": [
      "La matriz ensamblada es:\n"
     ]
    },
    {
     "data": {
      "text/latex": [
       "$\\displaystyle \\left[\\begin{matrix}\\frac{L}{3 E I} & 0 & - \\frac{L}{6 E I} & \\frac{L}{3 E I}\\\\0 & \\frac{L}{3 E I} & 0 & \\frac{L}{6 E I}\\\\- \\frac{L}{6 E I} & 0 & \\frac{L}{3 E I} & - \\frac{L}{6 E I}\\\\\\frac{L}{3 E I} & \\frac{L}{6 E I} & - \\frac{L}{6 E I} & \\frac{2 L}{3 E I}\\end{matrix}\\right]$"
      ],
      "text/plain": [
       "Matrix([\n",
       "[ L/(3*E*I),         0, -L/(6*E*I),   L/(3*E*I)],\n",
       "[         0, L/(3*E*I),          0,   L/(6*E*I)],\n",
       "[-L/(6*E*I),         0,  L/(3*E*I),  -L/(6*E*I)],\n",
       "[ L/(3*E*I), L/(6*E*I), -L/(6*E*I), 2*L/(3*E*I)]])"
      ]
     },
     "metadata": {},
     "output_type": "display_data"
    }
   ],
   "source": [
    "BMS=sp.zeros(4,4)\n",
    "BMS[:,0]=sp.Matrix([[-1/L],\n",
    "                    [1],\n",
    "                    [0],\n",
    "                    [0]])\n",
    "BMS[:,1]=sp.Matrix([[0],\n",
    "                    [0],\n",
    "                    [-1/L],\n",
    "                    [1]])\n",
    "BMS[:,2]=sp.Matrix([[-1/L],\n",
    "                    [0],\n",
    "                    [0],\n",
    "                    [0]])\n",
    "BMS[:,3]=sp.Matrix([[-1/L],\n",
    "                    [1],\n",
    "                    [1/L],\n",
    "                    [0]])\n",
    "\n",
    "print('La matriz de transformacion es:')\n",
    "display(BMS)\n",
    "\n",
    "FM=BMS.transpose()*fm*BMS\n",
    "\n",
    "print('La matriz ensamblada es:')\n",
    "display(FM)"
   ]
  },
  {
   "cell_type": "markdown",
   "metadata": {},
   "source": [
    "## Separamos las Matrices y Resolvemos el sistema de Ecuaciones\n",
    "$[D_S]=[F_M][A_S]$\n",
    "\n",
    "$\n",
    "\\begin{bmatrix}\n",
    "D_J \\\\\n",
    "D_Q\n",
    "\\end{bmatrix} =\n",
    "\\begin{bmatrix}\n",
    "F_{JJ} & F_{JQ} \\\\\n",
    "F_{QJ} & F_{QQ}\n",
    "\\end{bmatrix}\n",
    "\\begin{bmatrix}\n",
    "A_J \\\\\n",
    "A_Q\n",
    "\\end{bmatrix}\n",
    "$"
   ]
  },
  {
   "cell_type": "code",
   "execution_count": 46,
   "metadata": {},
   "outputs": [
    {
     "data": {
      "text/latex": [
       "$\\displaystyle \\left[\\begin{matrix}\\frac{L}{3 E I} & 0\\\\0 & \\frac{L}{3 E I}\\end{matrix}\\right]$"
      ],
      "text/plain": [
       "Matrix([\n",
       "[L/(3*E*I),         0],\n",
       "[        0, L/(3*E*I)]])"
      ]
     },
     "metadata": {},
     "output_type": "display_data"
    },
    {
     "data": {
      "text/latex": [
       "$\\displaystyle \\left[\\begin{matrix}- \\frac{L}{6 E I} & \\frac{L}{3 E I}\\\\0 & \\frac{L}{6 E I}\\end{matrix}\\right]$"
      ],
      "text/plain": [
       "Matrix([\n",
       "[-L/(6*E*I), L/(3*E*I)],\n",
       "[         0, L/(6*E*I)]])"
      ]
     },
     "metadata": {},
     "output_type": "display_data"
    },
    {
     "data": {
      "text/latex": [
       "$\\displaystyle \\left[\\begin{matrix}- \\frac{L}{6 E I} & 0\\\\\\frac{L}{3 E I} & \\frac{L}{6 E I}\\end{matrix}\\right]$"
      ],
      "text/plain": [
       "Matrix([\n",
       "[-L/(6*E*I),         0],\n",
       "[ L/(3*E*I), L/(6*E*I)]])"
      ]
     },
     "metadata": {},
     "output_type": "display_data"
    },
    {
     "data": {
      "text/latex": [
       "$\\displaystyle \\left[\\begin{matrix}\\frac{L}{3 E I} & - \\frac{L}{6 E I}\\\\- \\frac{L}{6 E I} & \\frac{2 L}{3 E I}\\end{matrix}\\right]$"
      ],
      "text/plain": [
       "Matrix([\n",
       "[ L/(3*E*I),  -L/(6*E*I)],\n",
       "[-L/(6*E*I), 2*L/(3*E*I)]])"
      ]
     },
     "metadata": {},
     "output_type": "display_data"
    }
   ],
   "source": [
    "FJJ=FM[0:2,0:2]\n",
    "FJQ=FM[0:2,2:4]\n",
    "FQJ=FM[2:4,0:2]\n",
    "FQQ=FM[2:4,2:4]\n",
    "\n",
    "display(FJJ)\n",
    "display(FJQ)\n",
    "display(FQJ)\n",
    "display(FQQ)"
   ]
  },
  {
   "cell_type": "code",
   "execution_count": 65,
   "metadata": {},
   "outputs": [
    {
     "name": "stdout",
     "output_type": "stream",
     "text": [
      "El vector DQ es:\n"
     ]
    },
    {
     "data": {
      "text/latex": [
       "$\\displaystyle \\left[\\begin{matrix}0\\\\0\\end{matrix}\\right]$"
      ],
      "text/plain": [
       "Matrix([\n",
       "[0],\n",
       "[0]])"
      ]
     },
     "metadata": {},
     "output_type": "display_data"
    },
    {
     "name": "stdout",
     "output_type": "stream",
     "text": [
      "Los vectores de carga son:\n"
     ]
    },
    {
     "data": {
      "text/latex": [
       "$\\displaystyle \\left[\\begin{matrix}L P\\\\0\\end{matrix}\\right]$"
      ],
      "text/plain": [
       "Matrix([\n",
       "[L*P],\n",
       "[  0]])"
      ]
     },
     "metadata": {},
     "output_type": "display_data"
    },
    {
     "data": {
      "text/latex": [
       "$\\displaystyle \\left[\\begin{matrix}\\frac{L P}{8}\\\\\\frac{L P}{8}\\end{matrix}\\right]$"
      ],
      "text/plain": [
       "Matrix([\n",
       "[L*P/8],\n",
       "[L*P/8]])"
      ]
     },
     "metadata": {},
     "output_type": "display_data"
    },
    {
     "data": {
      "text/latex": [
       "$\\displaystyle \\left[\\begin{matrix}- \\frac{L P}{8}\\\\- \\frac{L P}{8}\\end{matrix}\\right]$"
      ],
      "text/plain": [
       "Matrix([\n",
       "[-L*P/8],\n",
       "[-L*P/8]])"
      ]
     },
     "metadata": {},
     "output_type": "display_data"
    },
    {
     "name": "stdout",
     "output_type": "stream",
     "text": [
      "El valor de las redundantes en el sistema equivalente es:\n"
     ]
    },
    {
     "data": {
      "text/latex": [
       "$\\displaystyle \\left[\\begin{matrix}\\frac{17 L P}{56}\\\\- \\frac{29 L P}{56}\\end{matrix}\\right]$"
      ],
      "text/plain": [
       "Matrix([\n",
       "[ 17*L*P/56],\n",
       "[-29*L*P/56]])"
      ]
     },
     "metadata": {},
     "output_type": "display_data"
    }
   ],
   "source": [
    "# Se resuelve el sistema de ecuaciones\n",
    "\n",
    "DQ=sp.zeros(2,1)\n",
    "print('El vector DQ es:')\n",
    "display(DQ)\n",
    "\n",
    "AS_load_node=sp.Matrix([[P*L],\n",
    "                        [0],\n",
    "                        [0],\n",
    "                        []])\n",
    "AS_load_FE=sp.Matrix([[],\n",
    "                      [],\n",
    "                      [],\n",
    "                      []])\n",
    "AS_load_EQ=-AS_load_FE\n",
    "\n",
    "AJ_loadNudo=sp.Matrix([[P*L],\n",
    "                       [0]])\n",
    "AJ_loadEQ=sp.Matrix([[P*L/4-P*L/8],\n",
    "                     [P*L/8]])\n",
    "AJ_loadFE=-AJ_loadEQ\n",
    "\n",
    "\n",
    "print('Los vectores de carga son:')\n",
    "display(AJ_loadNudo)\n",
    "display(AJ_loadEQ)\n",
    "display(AJ_loadFE)\n",
    "\n",
    "# Resolvemos para AQ\n",
    "AQ=FQQ.inv()*(DQ-FQJ*(AJ_loadNudo+AJ_loadEQ))\n",
    "AQ=AQ\n",
    "\n",
    "print('El valor de las redundantes en el sistema equivalente es:')\n",
    "display(AQ)\n",
    "\n"
   ]
  },
  {
   "cell_type": "code",
   "execution_count": 67,
   "metadata": {},
   "outputs": [
    {
     "name": "stdout",
     "output_type": "stream",
     "text": [
      "Las redundantes en el sistema original son:\n"
     ]
    },
    {
     "data": {
      "text/latex": [
       "$\\displaystyle \\left[\\begin{matrix}\\frac{31 L P}{56}\\\\- \\frac{9 L P}{14}\\end{matrix}\\right]$"
      ],
      "text/plain": [
       "Matrix([\n",
       "[31*L*P/56],\n",
       "[-9*L*P/14]])"
      ]
     },
     "metadata": {},
     "output_type": "display_data"
    }
   ],
   "source": [
    "# Calculamos las reacciones en el sistema original\n",
    "AQ_loadFE=sp.Matrix([[P*L/4],\n",
    "                     [-P*L/4+P*L/8]])\n",
    "\n",
    "AQ_original=AQ+AQ_loadFE\n",
    "\n",
    "print('Las redundantes en el sistema original son:')\n",
    "display(AQ_original)"
   ]
  },
  {
   "cell_type": "code",
   "execution_count": null,
   "metadata": {},
   "outputs": [],
   "source": []
  }
 ],
 "metadata": {
  "kernelspec": {
   "display_name": "base",
   "language": "python",
   "name": "python3"
  },
  "language_info": {
   "codemirror_mode": {
    "name": "ipython",
    "version": 3
   },
   "file_extension": ".py",
   "mimetype": "text/x-python",
   "name": "python",
   "nbconvert_exporter": "python",
   "pygments_lexer": "ipython3",
   "version": "3.11.4"
  },
  "orig_nbformat": 4
 },
 "nbformat": 4,
 "nbformat_minor": 2
}
