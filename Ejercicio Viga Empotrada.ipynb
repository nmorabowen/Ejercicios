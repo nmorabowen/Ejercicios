{
 "cells": [
  {
   "cell_type": "markdown",
   "metadata": {},
   "source": [
    "# Ejercicio de Viga Empotrada\n",
    "1. Determinar la curva fuerza desoplazamiento en el punto B\n",
    "\n",
    "Se va a resolver utilizando el metodo de los coeficientes de rigides"
   ]
  },
  {
   "cell_type": "code",
   "execution_count": 85,
   "metadata": {},
   "outputs": [],
   "source": [
    "# Importamos las dependencias\n",
    "import numpy as np\n",
    "import math\n",
    "import matplotlib.pyplot as plt\n",
    "from IPython.display import display, Latex\n",
    "import sympy as sp"
   ]
  },
  {
   "cell_type": "code",
   "execution_count": 86,
   "metadata": {},
   "outputs": [],
   "source": [
    "# Definimos las variables simbolicas del problema\n",
    "P,L,L1,L2,E,I,u1,u2,Mp,Pr_1,Pr_2,Pr_3 = sp.symbols('P L L1 L2 E I u1 u2 Mp Pr_1 Pr_2 Pr_3')\n"
   ]
  },
  {
   "cell_type": "markdown",
   "metadata": {},
   "source": [
    "## Datos"
   ]
  },
  {
   "cell_type": "code",
   "execution_count": 87,
   "metadata": {},
   "outputs": [],
   "source": [
    "# Definimos los datos generales del problema\n",
    "L1=L/3\n",
    "L2=2*L/3"
   ]
  },
  {
   "cell_type": "markdown",
   "metadata": {},
   "source": [
    "## Rango Elastico"
   ]
  },
  {
   "cell_type": "code",
   "execution_count": 88,
   "metadata": {},
   "outputs": [
    {
     "data": {
      "text/latex": [
       "La matriz de Fuerzas {EQ} es igual a: \n"
      ],
      "text/plain": [
       "<IPython.core.display.Latex object>"
      ]
     },
     "metadata": {},
     "output_type": "display_data"
    },
    {
     "data": {
      "text/latex": [
       "$\\displaystyle \\left[\\begin{matrix}- P\\\\0\\end{matrix}\\right]$"
      ],
      "text/plain": [
       "Matrix([\n",
       "[-P],\n",
       "[ 0]])"
      ]
     },
     "metadata": {},
     "output_type": "display_data"
    },
    {
     "data": {
      "text/latex": [
       "La matriz de Rigidez {EQ} es igual a: \n"
      ],
      "text/plain": [
       "<IPython.core.display.Latex object>"
      ]
     },
     "metadata": {},
     "output_type": "display_data"
    },
    {
     "data": {
      "text/latex": [
       "$\\displaystyle \\left[\\begin{matrix}\\frac{729 E I}{2 L^{3}} & - \\frac{81 E I}{2 L^{2}}\\\\- \\frac{81 E I}{2 L^{2}} & \\frac{18 E I}{L}\\end{matrix}\\right]$"
      ],
      "text/plain": [
       "Matrix([\n",
       "[729*E*I/(2*L**3), -81*E*I/(2*L**2)],\n",
       "[-81*E*I/(2*L**2),         18*E*I/L]])"
      ]
     },
     "metadata": {},
     "output_type": "display_data"
    },
    {
     "data": {
      "text/latex": [
       "La matriz de Rigidez invertida {EQ} es igual a: \n"
      ],
      "text/plain": [
       "<IPython.core.display.Latex object>"
      ]
     },
     "metadata": {},
     "output_type": "display_data"
    },
    {
     "data": {
      "text/latex": [
       "$\\displaystyle \\left[\\begin{matrix}\\frac{8 L^{3}}{2187 E I} & \\frac{2 L^{2}}{243 E I}\\\\\\frac{2 L^{2}}{243 E I} & \\frac{2 L}{27 E I}\\end{matrix}\\right]$"
      ],
      "text/plain": [
       "Matrix([\n",
       "[8*L**3/(2187*E*I), 2*L**2/(243*E*I)],\n",
       "[ 2*L**2/(243*E*I),     2*L/(27*E*I)]])"
      ]
     },
     "metadata": {},
     "output_type": "display_data"
    },
    {
     "data": {
      "text/latex": [
       "La solucion del sistema de equaciones {EQ} es igual a: \n"
      ],
      "text/plain": [
       "<IPython.core.display.Latex object>"
      ]
     },
     "metadata": {},
     "output_type": "display_data"
    },
    {
     "data": {
      "text/latex": [
       "$\\displaystyle \\left[\\begin{matrix}- \\frac{8 L^{3} P}{2187 E I}\\\\- \\frac{2 L^{2} P}{243 E I}\\end{matrix}\\right]$"
      ],
      "text/plain": [
       "Matrix([\n",
       "[-8*L**3*P/(2187*E*I)],\n",
       "[ -2*L**2*P/(243*E*I)]])"
      ]
     },
     "metadata": {},
     "output_type": "display_data"
    },
    {
     "data": {
      "text/latex": [
       "Los desplazamientos son {EQ} es igual a: \n"
      ],
      "text/plain": [
       "<IPython.core.display.Latex object>"
      ]
     },
     "metadata": {},
     "output_type": "display_data"
    },
    {
     "data": {
      "text/latex": [
       "$\\displaystyle - \\frac{8 L^{3} P}{2187 E I}$"
      ],
      "text/plain": [
       "-8*L**3*P/(2187*E*I)"
      ]
     },
     "metadata": {},
     "output_type": "display_data"
    },
    {
     "data": {
      "text/latex": [
       "$\\displaystyle - \\frac{2 L^{2} P}{243 E I}$"
      ],
      "text/plain": [
       "-2*L**2*P/(243*E*I)"
      ]
     },
     "metadata": {},
     "output_type": "display_data"
    }
   ],
   "source": [
    "# Definimos el Eqilibrio, relaciones constitutivas y compatibilidad de deformaciones\n",
    "F=sp.Matrix([[-P],\n",
    "             [0]])\n",
    "K=sp.Matrix([[12*E*I*(1/L1**3+1/L2**3),6*E*I*(1/L2**2-1/L1**2)],\n",
    "             [6*E*I*(1/L2**2-1/L1**2),4*E*I*(1/L1+1/L2)]])\n",
    "\n",
    "K_inv=K.inv()\n",
    "\n",
    "EQ=r'$[F]$'\n",
    "ftext='La matriz de Fuerzas {EQ} es igual a: \\n'\n",
    "display(Latex(ftext))\n",
    "display(F)\n",
    "\n",
    "EQ=r'$[K]$'\n",
    "ftext='La matriz de Rigidez {EQ} es igual a: \\n'\n",
    "display(Latex(ftext))\n",
    "display(K)\n",
    "\n",
    "result=K_inv*F\n",
    "\n",
    "EQ=r'$[K]^{-1}$'\n",
    "ftext='La matriz de Rigidez invertida {EQ} es igual a: \\n'\n",
    "display(Latex(ftext))\n",
    "display(K_inv)\n",
    "\n",
    "EQ=r'$[K]^{-1}[F]$'\n",
    "ftext='La solucion del sistema de equaciones {EQ} es igual a: \\n'\n",
    "display(Latex(ftext))\n",
    "display(result)\n",
    "\n",
    "u1=result[0]\n",
    "u2=result[1]\n",
    "\n",
    "u=sp.Matrix([[u1],[u2]])\n",
    "\n",
    "EQ=r'$\\frac{u_1}{u_2}$'\n",
    "ftext='Los desplazamientos son {EQ} es igual a: \\n'\n",
    "display(Latex(ftext))\n",
    "display(u1,u2)\n"
   ]
  },
  {
   "cell_type": "code",
   "execution_count": 89,
   "metadata": {},
   "outputs": [
    {
     "data": {
      "text/latex": [
       "$\\displaystyle \\left[\\begin{matrix}\\frac{4 L P}{27}\\\\- \\frac{2 L P}{27}\\\\- \\frac{8 L P}{81}\\end{matrix}\\right]$"
      ],
      "text/plain": [
       "Matrix([\n",
       "[ 4*L*P/27],\n",
       "[-2*L*P/27],\n",
       "[-8*L*P/81]])"
      ]
     },
     "metadata": {},
     "output_type": "display_data"
    }
   ],
   "source": [
    "# Calculamos los momentos en el apoyo izquierdo y derecho\n",
    "K_FE=sp.Matrix([[-6*E*I/L1**2,2*E*I/L1],\n",
    "                [6*E*I/L2**2,2*E*I/L2],\n",
    "                [6*E*I*(1/L2**2),4*E*I*(1/L2)]])\n",
    "\n",
    "M_FE=K_FE*u\n",
    "\n",
    "display(M_FE)"
   ]
  },
  {
   "cell_type": "markdown",
   "metadata": {},
   "source": [
    "## Rango Elasto-PLastico -- Primera Rotula"
   ]
  },
  {
   "cell_type": "code",
   "execution_count": 90,
   "metadata": {},
   "outputs": [
    {
     "data": {
      "text/latex": [
       "La matriz de Rigidez {EQ} es igual a: \n"
      ],
      "text/plain": [
       "<IPython.core.display.Latex object>"
      ]
     },
     "metadata": {},
     "output_type": "display_data"
    },
    {
     "data": {
      "text/latex": [
       "$\\displaystyle \\left[\\begin{matrix}\\frac{243 E I}{2 L^{3}} & - \\frac{27 E I}{2 L^{2}}\\\\- \\frac{27 E I}{2 L^{2}} & \\frac{15 E I}{L}\\end{matrix}\\right]$"
      ],
      "text/plain": [
       "Matrix([\n",
       "[243*E*I/(2*L**3), -27*E*I/(2*L**2)],\n",
       "[-27*E*I/(2*L**2),         15*E*I/L]])"
      ]
     },
     "metadata": {},
     "output_type": "display_data"
    },
    {
     "data": {
      "text/latex": [
       "Los desplazamientos son {EQ} es igual a: \n"
      ],
      "text/plain": [
       "<IPython.core.display.Latex object>"
      ]
     },
     "metadata": {},
     "output_type": "display_data"
    },
    {
     "data": {
      "text/latex": [
       "$\\displaystyle - \\frac{20 L^{3} P}{2187 E I}$"
      ],
      "text/plain": [
       "-20*L**3*P/(2187*E*I)"
      ]
     },
     "metadata": {},
     "output_type": "display_data"
    },
    {
     "data": {
      "text/latex": [
       "$\\displaystyle - \\frac{2 L^{2} P}{243 E I}$"
      ],
      "text/plain": [
       "-2*L**2*P/(243*E*I)"
      ]
     },
     "metadata": {},
     "output_type": "display_data"
    }
   ],
   "source": [
    "K1=sp.Matrix([[E*I*(3/L1**3+12/L2**3),E*I*(6/L2**2-3/L1**2)],\n",
    "              [E*I*(6/L2**2-3/L1**2),E*I*(4/L2+3/L1)]])\n",
    "results1=K1.inv()*F\n",
    "\n",
    "EQ=r'$[K]$'\n",
    "ftext='La matriz de Rigidez {EQ} es igual a: \\n'\n",
    "display(Latex(ftext))\n",
    "display(K1)\n",
    "\n",
    "u1_1=results1[0]\n",
    "u2_1=results1[1]\n",
    "\n",
    "u11=sp.Matrix([[u1_1],[u2_1]])\n",
    "\n",
    "EQ=r'$\\frac{u_1}{u_2}$'\n",
    "ftext='Los desplazamientos son {EQ} es igual a: \\n'\n",
    "display(Latex(ftext))\n",
    "display(u1_1,u2_1)"
   ]
  },
  {
   "cell_type": "code",
   "execution_count": 91,
   "metadata": {},
   "outputs": [
    {
     "data": {
      "text/latex": [
       "$\\displaystyle \\left[\\begin{matrix}- \\frac{4 L P}{27}\\\\- \\frac{14 L P}{81}\\end{matrix}\\right]$"
      ],
      "text/plain": [
       "Matrix([\n",
       "[ -4*L*P/27],\n",
       "[-14*L*P/81]])"
      ]
     },
     "metadata": {},
     "output_type": "display_data"
    }
   ],
   "source": [
    "# Calculamos los momentos en Mc y Mb\n",
    "K_FE_1=sp.Matrix([[6*E*I/L2**2,2*E*I/L2],\n",
    "                 [6*E*I/L2**2,4*E*I/L2]])\n",
    "M_FE_1=K_FE_1*u11\n",
    "display(M_FE_1)"
   ]
  },
  {
   "cell_type": "markdown",
   "metadata": {},
   "source": [
    "## Rango Parcialmente PLastico - 2da Rotula"
   ]
  },
  {
   "cell_type": "code",
   "execution_count": 92,
   "metadata": {},
   "outputs": [],
   "source": [
    "u1_2=-P*L2**3/(3*E*I)\n",
    "Mc_3=-P*L2"
   ]
  },
  {
   "cell_type": "markdown",
   "metadata": {},
   "source": [
    "## Determinamos los valores de las cargas de 1ra fluencia, 2da Fluencia, y 3ra Fluencia"
   ]
  },
  {
   "cell_type": "code",
   "execution_count": 104,
   "metadata": {},
   "outputs": [
    {
     "data": {
      "text/latex": [
       "$\\displaystyle \\frac{27 Mp}{4 L}$"
      ],
      "text/plain": [
       "27*Mp/(4*L)"
      ]
     },
     "metadata": {},
     "output_type": "display_data"
    },
    {
     "data": {
      "text/latex": [
       "$\\displaystyle \\frac{27 Mp}{14 L}$"
      ],
      "text/plain": [
       "27*Mp/(14*L)"
      ]
     },
     "metadata": {},
     "output_type": "display_data"
    },
    {
     "data": {
      "text/latex": [
       "$\\displaystyle \\frac{9 Mp}{28 L}$"
      ],
      "text/plain": [
       "9*Mp/(28*L)"
      ]
     },
     "metadata": {},
     "output_type": "display_data"
    },
    {
     "data": {
      "text/latex": [
       "$\\displaystyle 1$"
      ],
      "text/plain": [
       "1"
      ]
     },
     "metadata": {},
     "output_type": "display_data"
    },
    {
     "data": {
      "text/latex": [
       "$\\displaystyle \\frac{2}{7}$"
      ],
      "text/plain": [
       "2/7"
      ]
     },
     "metadata": {},
     "output_type": "display_data"
    },
    {
     "data": {
      "text/latex": [
       "$\\displaystyle \\frac{1}{21}$"
      ],
      "text/plain": [
       "1/21"
      ]
     },
     "metadata": {},
     "output_type": "display_data"
    },
    {
     "data": {
      "text/latex": [
       "$\\displaystyle - \\frac{8 L^{3} P}{2187 E I}$"
      ],
      "text/plain": [
       "-8*L**3*P/(2187*E*I)"
      ]
     },
     "metadata": {},
     "output_type": "display_data"
    },
    {
     "data": {
      "text/latex": [
       "$\\displaystyle - \\frac{32 L^{3} P}{5103 E I}$"
      ],
      "text/plain": [
       "-32*L**3*P/(5103*E*I)"
      ]
     },
     "metadata": {},
     "output_type": "display_data"
    },
    {
     "data": {
      "text/latex": [
       "$\\displaystyle - \\frac{8 L^{3} P}{729 E I}$"
      ],
      "text/plain": [
       "-8*L**3*P/(729*E*I)"
      ]
     },
     "metadata": {},
     "output_type": "display_data"
    }
   ],
   "source": [
    "Ma_1=M_FE[0]\n",
    "a=sp.solve(Ma_1-Mp,P)\n",
    "\n",
    "Mb_2=2*Mp/3+14*Pr_2*L/81\n",
    "b=sp.solve(Mb_2-Mp,Pr_2)\n",
    "\n",
    "\n",
    "Mc_3=Mp/2+4*b[0]*L/27+2*Pr_3*L/3\n",
    "c=sp.solve(Mc_3-Mp,Pr_3)\n",
    "\n",
    "display(a[0])\n",
    "display(b[0])\n",
    "display(c[0])\n",
    "\n",
    "Load=np.array([a[0]/a[0],1+b[0]/a[0],1+b[0]/a[0]+c[0]/a[0],1+b[0]/a[0]+c[0]/a[0]])\n",
    "\n",
    "display(a[0]/a[0])\n",
    "display(b[0]/a[0])\n",
    "display(c[0]/a[0])\n",
    "\n",
    "delta_1=u1\n",
    "delta_2=u1+u1_1.subs(P,b[0]).subs(Mp,4*P*L/27)\n",
    "delta_3=delta_2+u1_2.subs(P,c[0]).subs(Mp,4*P*L/27)\n",
    "\n",
    "display(delta_1)\n",
    "display(delta_2)\n",
    "display(delta_3)\n",
    "\n",
    "Displacement=np.array([delta_1/delta_1,delta_2/delta_1,delta_3/delta_1,delta_3/delta_1*1.5])"
   ]
  },
  {
   "cell_type": "markdown",
   "metadata": {},
   "source": [
    "## Gaficamos"
   ]
  },
  {
   "cell_type": "code",
   "execution_count": 109,
   "metadata": {},
   "outputs": [
    {
     "data": {
      "text/plain": [
       "Text(0, 0.5, '$P/P_y$')"
      ]
     },
     "execution_count": 109,
     "metadata": {},
     "output_type": "execute_result"
    },
    {
     "data": {
      "image/png": "[encoded data removed]",
      "text/plain": [
       "<Figure size 500x500 with 1 Axes>"
      ]
     },
     "metadata": {},
     "output_type": "display_data"
    }
   ],
   "source": [
    "plt.figure(figsize=(5,5), dpi=100)\n",
    "plt.plot(Displacement-1,Load,color='k',linestyle='-',linewidth=1.5)\n",
    "plt.grid(True)\n",
    "plt.xlabel(r'$\\delta / \\delta_y$')\n",
    "plt.ylabel(r'$P/P_y$')"
   ]
  }
 ],
 "metadata": {
  "kernelspec": {
   "display_name": "base",
   "language": "python",
   "name": "python3"
  },
  "language_info": {
   "codemirror_mode": {
    "name": "ipython",
    "version": 3
   },
   "file_extension": ".py",
   "mimetype": "text/x-python",
   "name": "python",
   "nbconvert_exporter": "python",
   "pygments_lexer": "ipython3",
   "version": "3.9.13"
  },
  "orig_nbformat": 4
 },
 "nbformat": 4,
 "nbformat_minor": 2
}
