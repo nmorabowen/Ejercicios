{
 "cells": [
  {
   "cell_type": "markdown",
   "metadata": {},
   "source": [
    "# Calculo de los coeficientes de Rigidez del Sistema Basico al Local Para una Viga"
   ]
  },
  {
   "cell_type": "code",
   "execution_count": 3,
   "metadata": {},
   "outputs": [],
   "source": [
    "# Importamos dependencias\n",
    "import sympy as sp\n",
    "from IPython.display import display, Latex"
   ]
  },
  {
   "cell_type": "code",
   "execution_count": 8,
   "metadata": {},
   "outputs": [
    {
     "name": "stdout",
     "output_type": "stream",
     "text": [
      "La Matriz de Flexibilidad es:\n"
     ]
    },
    {
     "data": {
      "text/latex": [
       "$\\displaystyle \\left[\\begin{matrix}\\frac{L}{A E} & 0 & 0\\\\0 & \\frac{L}{3 E I} & - \\frac{L}{6 E I}\\\\0 & - \\frac{L}{6 E I} & \\frac{L}{3 E I}\\end{matrix}\\right]$"
      ],
      "text/plain": [
       "Matrix([\n",
       "[L/(A*E),          0,          0],\n",
       "[      0,  L/(3*E*I), -L/(6*E*I)],\n",
       "[      0, -L/(6*E*I),  L/(3*E*I)]])"
      ]
     },
     "metadata": {},
     "output_type": "display_data"
    },
    {
     "name": "stdout",
     "output_type": "stream",
     "text": [
      "La Matriz de Rigidez es:\n"
     ]
    },
    {
     "data": {
      "text/latex": [
       "$\\displaystyle \\left[\\begin{matrix}\\frac{A E}{L} & 0 & 0\\\\0 & \\frac{4 E I}{L} & \\frac{2 E I}{L}\\\\0 & \\frac{2 E I}{L} & \\frac{4 E I}{L}\\end{matrix}\\right]$"
      ],
      "text/plain": [
       "Matrix([\n",
       "[A*E/L,       0,       0],\n",
       "[    0, 4*E*I/L, 2*E*I/L],\n",
       "[    0, 2*E*I/L, 4*E*I/L]])"
      ]
     },
     "metadata": {},
     "output_type": "display_data"
    }
   ],
   "source": [
    "# Definimos las variables simbolicas\n",
    "E,I,A,L,c,s=sp.symbols('E I A L c s')\n",
    "\n",
    "# Definimos la matriz de flexibilidad del sistema basico\n",
    "Fb=sp.zeros(3,3)\n",
    "Fb[0,0]=L/(A*E)\n",
    "Fb[1,1]=L/(3*E*I)\n",
    "Fb[1,2]=-L/(6*E*I)\n",
    "Fb[2,1]=-L/(6*E*I)\n",
    "Fb[2,2]=L/(3*E*I)\n",
    "\n",
    "print('La Matriz de Flexibilidad es:')\n",
    "display(Fb)\n",
    "\n",
    "Kb=Fb.inv()\n",
    "\n",
    "print('La Matriz de Rigidez es:')\n",
    "display(Kb)\n"
   ]
  },
  {
   "cell_type": "code",
   "execution_count": 5,
   "metadata": {},
   "outputs": [
    {
     "name": "stdout",
     "output_type": "stream",
     "text": [
      "La Matriz de Transformacion de basico a local es:\n"
     ]
    },
    {
     "data": {
      "text/latex": [
       "$\\displaystyle \\left[\\begin{matrix}-1 & 0 & 0 & 1 & 0 & 0\\\\0 & \\frac{1}{L} & 1 & 0 & - \\frac{1}{L} & 0\\\\0 & \\frac{1}{L} & 0 & 0 & - \\frac{1}{L} & 1\\end{matrix}\\right]$"
      ],
      "text/plain": [
       "Matrix([\n",
       "[-1,   0, 0, 1,    0, 0],\n",
       "[ 0, 1/L, 1, 0, -1/L, 0],\n",
       "[ 0, 1/L, 0, 0, -1/L, 1]])"
      ]
     },
     "metadata": {},
     "output_type": "display_data"
    }
   ],
   "source": [
    "# Definimos la matriz de Transformacion del sistema basico al local\n",
    "Tbl=sp.zeros(3,6)\n",
    "Tbl[:,0]=sp.Matrix([-1,0,0])\n",
    "Tbl[:,1]=sp.Matrix([0,1/L,1/L])\n",
    "Tbl[:,2]=sp.Matrix([0,1,0])\n",
    "Tbl[:,3]=sp.Matrix([1,0,0])\n",
    "Tbl[:,4]=sp.Matrix([0,-1/L,-1/L])\n",
    "Tbl[:,5]=sp.Matrix([0,0,1])\n",
    "\n",
    "print('La Matriz de Transformacion de basico a local es:')\n",
    "display(Tbl)"
   ]
  },
  {
   "cell_type": "code",
   "execution_count": 16,
   "metadata": {},
   "outputs": [
    {
     "name": "stdout",
     "output_type": "stream",
     "text": [
      "La matriz de Rigidez Local es:\n"
     ]
    },
    {
     "data": {
      "text/latex": [
       "$\\displaystyle \\left[\\begin{matrix}\\frac{A E}{L} & 0 & 0 & - \\frac{A E}{L} & 0 & 0\\\\0 & \\frac{12 E I}{L^{3}} & \\frac{6 E I}{L^{2}} & 0 & - \\frac{12 E I}{L^{3}} & \\frac{6 E I}{L^{2}}\\\\0 & \\frac{6 E I}{L^{2}} & \\frac{4 E I}{L} & 0 & - \\frac{6 E I}{L^{2}} & \\frac{2 E I}{L}\\\\- \\frac{A E}{L} & 0 & 0 & \\frac{A E}{L} & 0 & 0\\\\0 & - \\frac{12 E I}{L^{3}} & - \\frac{6 E I}{L^{2}} & 0 & \\frac{12 E I}{L^{3}} & - \\frac{6 E I}{L^{2}}\\\\0 & \\frac{6 E I}{L^{2}} & \\frac{2 E I}{L} & 0 & - \\frac{6 E I}{L^{2}} & \\frac{4 E I}{L}\\end{matrix}\\right]$"
      ],
      "text/plain": [
       "Matrix([\n",
       "[ A*E/L,            0,           0, -A*E/L,            0,           0],\n",
       "[     0,  12*E*I/L**3,  6*E*I/L**2,      0, -12*E*I/L**3,  6*E*I/L**2],\n",
       "[     0,   6*E*I/L**2,     4*E*I/L,      0,  -6*E*I/L**2,     2*E*I/L],\n",
       "[-A*E/L,            0,           0,  A*E/L,            0,           0],\n",
       "[     0, -12*E*I/L**3, -6*E*I/L**2,      0,  12*E*I/L**3, -6*E*I/L**2],\n",
       "[     0,   6*E*I/L**2,     2*E*I/L,      0,  -6*E*I/L**2,     4*E*I/L]])"
      ]
     },
     "metadata": {},
     "output_type": "display_data"
    }
   ],
   "source": [
    "# Detrminamos la Matriz de Rigidez Local\n",
    "Kl=Tbl.T*Kb*Tbl\n",
    "\n",
    "print('La matriz de Rigidez Local es:')\n",
    "display(Kl)"
   ]
  },
  {
   "cell_type": "code",
   "execution_count": 15,
   "metadata": {},
   "outputs": [
    {
     "name": "stdout",
     "output_type": "stream",
     "text": [
      "La Matriz de Transformacion Local a Global es\n"
     ]
    },
    {
     "data": {
      "text/latex": [
       "$\\displaystyle \\left[\\begin{matrix}c & s & 0 & 0 & 0 & 0\\\\- s & c & 0 & 0 & 0 & 0\\\\0 & 0 & 1 & 0 & 0 & 0\\\\0 & 0 & 0 & c & s & 0\\\\0 & 0 & 0 & - s & c & 0\\\\0 & 0 & 0 & 0 & 0 & 1\\end{matrix}\\right]$"
      ],
      "text/plain": [
       "Matrix([\n",
       "[ c, s, 0,  0, 0, 0],\n",
       "[-s, c, 0,  0, 0, 0],\n",
       "[ 0, 0, 1,  0, 0, 0],\n",
       "[ 0, 0, 0,  c, s, 0],\n",
       "[ 0, 0, 0, -s, c, 0],\n",
       "[ 0, 0, 0,  0, 0, 1]])"
      ]
     },
     "metadata": {},
     "output_type": "display_data"
    }
   ],
   "source": [
    "# Determinamos la matriz de transformacion de local a global\n",
    "Tlg=sp.zeros(6,6)\n",
    "Tlg[:,0]=sp.Matrix([c,-s,0,0,0,0])\n",
    "Tlg[:,1]=sp.Matrix([s,c,0,0,0,0])\n",
    "Tlg[:,2]=sp.Matrix([0,0,1,0,0,0])\n",
    "Tlg[:,3]=sp.Matrix([0,0,0,c,-s,0])\n",
    "Tlg[:,4]=sp.Matrix([0,0,0,s,c,0])\n",
    "Tlg[:,5]=sp.Matrix([0,0,0,0,0,1])\n",
    "\n",
    "print('La Matriz de Transformacion Local a Global es')\n",
    "display(Tlg)"
   ]
  },
  {
   "cell_type": "code",
   "execution_count": 17,
   "metadata": {},
   "outputs": [
    {
     "name": "stdout",
     "output_type": "stream",
     "text": [
      "La matriz de Rigidez Global es:\n"
     ]
    },
    {
     "data": {
      "text/latex": [
       "$\\displaystyle \\left[\\begin{matrix}\\frac{A E c^{2}}{L} + \\frac{12 E I s^{2}}{L^{3}} & \\frac{A E c s}{L} - \\frac{12 E I c s}{L^{3}} & - \\frac{6 E I s}{L^{2}} & - \\frac{A E c^{2}}{L} - \\frac{12 E I s^{2}}{L^{3}} & - \\frac{A E c s}{L} + \\frac{12 E I c s}{L^{3}} & - \\frac{6 E I s}{L^{2}}\\\\\\frac{A E c s}{L} - \\frac{12 E I c s}{L^{3}} & \\frac{A E s^{2}}{L} + \\frac{12 E I c^{2}}{L^{3}} & \\frac{6 E I c}{L^{2}} & - \\frac{A E c s}{L} + \\frac{12 E I c s}{L^{3}} & - \\frac{A E s^{2}}{L} - \\frac{12 E I c^{2}}{L^{3}} & \\frac{6 E I c}{L^{2}}\\\\- \\frac{6 E I s}{L^{2}} & \\frac{6 E I c}{L^{2}} & \\frac{4 E I}{L} & \\frac{6 E I s}{L^{2}} & - \\frac{6 E I c}{L^{2}} & \\frac{2 E I}{L}\\\\- \\frac{A E c^{2}}{L} - \\frac{12 E I s^{2}}{L^{3}} & - \\frac{A E c s}{L} + \\frac{12 E I c s}{L^{3}} & \\frac{6 E I s}{L^{2}} & \\frac{A E c^{2}}{L} + \\frac{12 E I s^{2}}{L^{3}} & \\frac{A E c s}{L} - \\frac{12 E I c s}{L^{3}} & \\frac{6 E I s}{L^{2}}\\\\- \\frac{A E c s}{L} + \\frac{12 E I c s}{L^{3}} & - \\frac{A E s^{2}}{L} - \\frac{12 E I c^{2}}{L^{3}} & - \\frac{6 E I c}{L^{2}} & \\frac{A E c s}{L} - \\frac{12 E I c s}{L^{3}} & \\frac{A E s^{2}}{L} + \\frac{12 E I c^{2}}{L^{3}} & - \\frac{6 E I c}{L^{2}}\\\\- \\frac{6 E I s}{L^{2}} & \\frac{6 E I c}{L^{2}} & \\frac{2 E I}{L} & \\frac{6 E I s}{L^{2}} & - \\frac{6 E I c}{L^{2}} & \\frac{4 E I}{L}\\end{matrix}\\right]$"
      ],
      "text/plain": [
       "Matrix([\n",
       "[ A*E*c**2/L + 12*E*I*s**2/L**3,    A*E*c*s/L - 12*E*I*c*s/L**3, -6*E*I*s/L**2, -A*E*c**2/L - 12*E*I*s**2/L**3,   -A*E*c*s/L + 12*E*I*c*s/L**3, -6*E*I*s/L**2],\n",
       "[   A*E*c*s/L - 12*E*I*c*s/L**3,  A*E*s**2/L + 12*E*I*c**2/L**3,  6*E*I*c/L**2,   -A*E*c*s/L + 12*E*I*c*s/L**3, -A*E*s**2/L - 12*E*I*c**2/L**3,  6*E*I*c/L**2],\n",
       "[                 -6*E*I*s/L**2,                   6*E*I*c/L**2,       4*E*I/L,                   6*E*I*s/L**2,                  -6*E*I*c/L**2,       2*E*I/L],\n",
       "[-A*E*c**2/L - 12*E*I*s**2/L**3,   -A*E*c*s/L + 12*E*I*c*s/L**3,  6*E*I*s/L**2,  A*E*c**2/L + 12*E*I*s**2/L**3,    A*E*c*s/L - 12*E*I*c*s/L**3,  6*E*I*s/L**2],\n",
       "[  -A*E*c*s/L + 12*E*I*c*s/L**3, -A*E*s**2/L - 12*E*I*c**2/L**3, -6*E*I*c/L**2,    A*E*c*s/L - 12*E*I*c*s/L**3,  A*E*s**2/L + 12*E*I*c**2/L**3, -6*E*I*c/L**2],\n",
       "[                 -6*E*I*s/L**2,                   6*E*I*c/L**2,       2*E*I/L,                   6*E*I*s/L**2,                  -6*E*I*c/L**2,       4*E*I/L]])"
      ]
     },
     "metadata": {},
     "output_type": "display_data"
    }
   ],
   "source": [
    "# Determinamos la Matriz Global\n",
    "Kg=Tlg.T*Kl*Tlg\n",
    "\n",
    "print('La matriz de Rigidez Global es:')\n",
    "display(Kg)\n"
   ]
  }
 ],
 "metadata": {
  "kernelspec": {
   "display_name": "base",
   "language": "python",
   "name": "python3"
  },
  "language_info": {
   "codemirror_mode": {
    "name": "ipython",
    "version": 3
   },
   "file_extension": ".py",
   "mimetype": "text/x-python",
   "name": "python",
   "nbconvert_exporter": "python",
   "pygments_lexer": "ipython3",
   "version": "3.9.13"
  },
  "orig_nbformat": 4
 },
 "nbformat": 4,
 "nbformat_minor": 2
}
